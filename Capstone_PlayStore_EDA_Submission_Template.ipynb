{
  "nbformat": 4,
  "nbformat_minor": 0,
  "metadata": {
    "colab": {
      "private_outputs": true,
      "provenance": [],
      "collapsed_sections": [
        "vncDsAP0Gaoa",
        "FJNUwmbgGyua",
        "w6K7xa23Elo4",
        "yQaldy8SH6Dl",
        "PH-0ReGfmX4f",
        "mDgbUHAGgjLW",
        "O_i_v8NEhb9l",
        "HhfV-JJviCcP",
        "Y3lxredqlCYt",
        "3RnN4peoiCZX",
        "x71ZqKXriCWQ",
        "7hBIi_osiCS2",
        "JlHwYmJAmNHm",
        "35m5QtbWiB9F",
        "PoPl-ycgm1ru",
        "H0kj-8xxnORC",
        "nA9Y7ga8ng1Z",
        "PBTbrJXOngz2",
        "u3PMJOP6ngxN",
        "dauF4eBmngu3",
        "bKJF3rekwFvQ",
        "MSa1f5Uengrz",
        "GF8Ens_Soomf",
        "0wOQAZs5pc--",
        "K5QZ13OEpz2H",
        "lQ7QKXXCp7Bj",
        "448CDAPjqfQr",
        "KSlN3yHqYklG",
        "t6dVpIINYklI",
        "ijmpgYnKYklI",
        "-JiQyfWJYklI",
        "EM7whBJCYoAo",
        "fge-S5ZAYoAp",
        "85gYPyotYoAp",
        "RoGjAbkUYoAp",
        "4Of9eVA-YrdM",
        "iky9q4vBYrdO",
        "F6T5p64dYrdO",
        "y-Ehk30pYrdP",
        "bamQiAODYuh1",
        "QHF8YVU7Yuh3",
        "GwzvFGzlYuh3",
        "qYpmQ266Yuh3",
        "OH-pJp9IphqM",
        "bbFf2-_FphqN",
        "_ouA3fa0phqN",
        "Seke61FWphqN",
        "PIIx-8_IphqN",
        "t27r6nlMphqO",
        "r2jJGEOYphqO",
        "b0JNsNcRphqO",
        "BZR9WyysphqO",
        "jj7wYXLtphqO",
        "eZrbJ2SmphqO",
        "rFu4xreNphqO",
        "YJ55k-q6phqO",
        "gCFgpxoyphqP",
        "OVtJsKN_phqQ",
        "lssrdh5qphqQ",
        "U2RJ9gkRphqQ",
        "1M8mcRywphqQ",
        "tgIPom80phqQ",
        "JMzcOPDDphqR",
        "x-EpHcCOp1ci",
        "X_VqEhTip1ck",
        "8zGJKyg5p1ck",
        "PVzmfK_Ep1ck",
        "n3dbpmDWp1ck",
        "ylSl6qgtp1ck",
        "ZWILFDl5p1ck",
        "M7G43BXep1ck",
        "Ag9LCva-p1cl",
        "E6MkPsBcp1cl",
        "2cELzS2fp1cl",
        "3MPXvC8up1cl",
        "NC_X3p0fY2L0",
        "UV0SzAkaZNRQ",
        "YPEH6qLeZNRQ",
        "q29F0dvdveiT",
        "EXh0U9oCveiU",
        "22aHeOlLveiV",
        "JcMwzZxoAimU",
        "8G2x9gOozGDZ",
        "gCX9965dhzqZ",
        "gIfDvo9L0UH2"
      ],
      "include_colab_link": true
    },
    "kernelspec": {
      "name": "python3",
      "display_name": "Python 3"
    },
    "language_info": {
      "name": "python"
    }
  },
  "cells": [
    {
      "cell_type": "markdown",
      "metadata": {
        "id": "view-in-github",
        "colab_type": "text"
      },
      "source": [
        "<a href=\"https://colab.research.google.com/github/Akashraj071/EDA-Capstrone-Project/blob/main/Capstone_PlayStore_EDA_Submission_Template.ipynb\" target=\"_parent\"><img src=\"https://colab.research.google.com/assets/colab-badge.svg\" alt=\"Open In Colab\"/></a>"
      ]
    },
    {
      "cell_type": "markdown",
      "source": [
        "# **Project Name**    - \n",
        "\n"
      ],
      "metadata": {
        "id": "vncDsAP0Gaoa"
      }
    },
    {
      "cell_type": "markdown",
      "source": [
        "##### **Project Type**    - EDA\n",
        "##### **Contribution**    - Team\n",
        "##### **Team Member 1 -Akash Raj N\n",
        "##### **Team Member 2 -Sarath K Lonappan"
      ],
      "metadata": {
        "id": "beRrZCGUAJYm"
      }
    },
    {
      "cell_type": "markdown",
      "source": [
        "# **Project Summary -**"
      ],
      "metadata": {
        "id": "FJNUwmbgGyua"
      }
    },
    {
      "cell_type": "markdown",
      "source": [
        "\n",
        "\n",
        ">\n",
        "Playstore is the app were more apps are getting downloaded in Android mobiles.Apps are suggested to people according to their mobile activities.so they can easily find each app they are searching for.\n",
        "\n",
        "Free apps are prefered by more users.Size does not matterfor the needful ones.Thr aim is to make more users to download the app rather than making them using it more. Making them review the apps more will help the developers to enhance the features and also help new users to go through reviews and download them.\n",
        "\n",
        "With almost 3 million apps in playstore an annual download above 100 billion is taking place.So a proper view of suggestions and rating will help to increase th no of downloads\n"
      ],
      "metadata": {
        "id": "F6v_1wHtG2nS"
      }
    },
    {
      "cell_type": "markdown",
      "source": [
        "# **GitHub Link -**"
      ],
      "metadata": {
        "id": "w6K7xa23Elo4"
      }
    },
    {
      "cell_type": "markdown",
      "source": [
        "Provide your GitHub Link here. https://github.com/Akashraj071/EDA-Capstrone-Project"
      ],
      "metadata": {
        "id": "h1o69JH3Eqqn"
      }
    },
    {
      "cell_type": "markdown",
      "source": [
        "# **Problem Statement**\n"
      ],
      "metadata": {
        "id": "yQaldy8SH6Dl"
      }
    },
    {
      "cell_type": "markdown",
      "source": [
        "**Write Problem Statement Here.**\n",
        "\n",
        "> Most Installed App\n",
        "Maximum Rating for apps in each Category\n",
        "Sentiments for each category\n",
        "\n"
      ],
      "metadata": {
        "id": "DpeJGUA3kjGy"
      }
    },
    {
      "cell_type": "markdown",
      "source": [
        "#### **Define Your Business Objective?**"
      ],
      "metadata": {
        "id": "PH-0ReGfmX4f"
      }
    },
    {
      "cell_type": "markdown",
      "source": [
        "A study on different types of apps and comparison between their important factors"
      ],
      "metadata": {
        "id": "PhDvGCAqmjP1"
      }
    },
    {
      "cell_type": "markdown",
      "source": [
        "# **General Guidelines** : -  "
      ],
      "metadata": {
        "id": "mDgbUHAGgjLW"
      }
    },
    {
      "cell_type": "markdown",
      "source": [
        "1.   Well-structured, formatted, and commented code is required. \n",
        "2.   Exception Handling, Production Grade Code & Deployment Ready Code will be a plus. Those students will be awarded some additional credits. \n",
        "     \n",
        "     The additional credits will have advantages over other students during Star Student selection.\n",
        "       \n",
        "             [ Note: - Deployment Ready Code is defined as, the whole .ipynb notebook should be executable in one go\n",
        "                       without a single error logged. ]\n",
        "\n",
        "3.   Each and every logic should have proper comments.\n",
        "4. You may add as many number of charts you want. Make Sure for each and every chart the following format should be answered.\n",
        "        \n",
        "\n",
        "```\n",
        "# Chart visualization code\n",
        "```\n",
        "            \n",
        "\n",
        "*   Why did you pick the specific chart?\n",
        "*   What is/are the insight(s) found from the chart?\n",
        "* Will the gained insights help creating a positive business impact? \n",
        "Are there any insights that lead to negative growth? Justify with specific reason.\n",
        "\n",
        "5. You have to create at least 20 logical & meaningful charts having important insights.\n",
        "\n",
        "\n",
        "[ Hints : - Do the Vizualization in  a structured way while following \"UBM\" Rule. \n",
        "\n",
        "U - Univariate Analysis,\n",
        "\n",
        "B - Bivariate Analysis (Numerical - Categorical, Numerical - Numerical, Categorical - Categorical)\n",
        "\n",
        "M - Multivariate Analysis\n",
        " ]\n",
        "\n",
        "\n",
        "\n"
      ],
      "metadata": {
        "id": "ZrxVaUj-hHfC"
      }
    },
    {
      "cell_type": "markdown",
      "source": [
        "# ***Let's Begin !***"
      ],
      "metadata": {
        "id": "O_i_v8NEhb9l"
      }
    },
    {
      "cell_type": "markdown",
      "source": [
        "## ***1. Know Your Data***"
      ],
      "metadata": {
        "id": "HhfV-JJviCcP"
      }
    },
    {
      "cell_type": "markdown",
      "source": [],
      "metadata": {
        "id": "vV3liBIcJMnV"
      }
    },
    {
      "cell_type": "code",
      "source": [
        "from google.colab import drive\n",
        "drive.mount('/content/drive')"
      ],
      "metadata": {
        "id": "aQ07s1tYJMOE"
      },
      "execution_count": null,
      "outputs": []
    },
    {
      "cell_type": "markdown",
      "source": [
        "### Import Libraries"
      ],
      "metadata": {
        "id": "Y3lxredqlCYt"
      }
    },
    {
      "cell_type": "code",
      "source": [
        "# Import Libraries\n",
        "import numpy as np\n",
        "import pandas as pd\n",
        "import matplotlib.pyplot as plt\n",
        "%matplotlib inline\n",
        "import seaborn as sns"
      ],
      "metadata": {
        "id": "M8Vqi-pPk-HR"
      },
      "execution_count": null,
      "outputs": []
    },
    {
      "cell_type": "markdown",
      "source": [
        "### Dataset Loading"
      ],
      "metadata": {
        "id": "3RnN4peoiCZX"
      }
    },
    {
      "cell_type": "code",
      "source": [
        "# Load Dataset\n",
        "path_data='/content/drive/MyDrive/Capstone Project/EDA/files/Play Store Data.csv'\n",
        "path_user='/content/drive/MyDrive/Capstone Project/EDA/files/User Reviews.csv'\n",
        "df1=pd.read_csv(path_data)\n",
        "df2=pd.read_csv(path_user)\n",
        "app_df=pd.merge(df1,df2,how='outer',left_on='App',right_on='App')"
      ],
      "metadata": {
        "id": "4CkvbW_SlZ_R"
      },
      "execution_count": null,
      "outputs": []
    },
    {
      "cell_type": "markdown",
      "source": [
        "### Dataset First View"
      ],
      "metadata": {
        "id": "x71ZqKXriCWQ"
      }
    },
    {
      "cell_type": "code",
      "source": [
        "# Dataset First Look"
      ],
      "metadata": {
        "id": "LWNFOSvLl09H"
      },
      "execution_count": null,
      "outputs": []
    },
    {
      "cell_type": "code",
      "source": [
        "df1.head()"
      ],
      "metadata": {
        "id": "KMAIW3xLLdtc"
      },
      "execution_count": null,
      "outputs": []
    },
    {
      "cell_type": "code",
      "source": [
        "df2.head()"
      ],
      "metadata": {
        "id": "tdGFrZM_Lk6x"
      },
      "execution_count": null,
      "outputs": []
    },
    {
      "cell_type": "markdown",
      "source": [
        "### Dataset Rows & Columns count"
      ],
      "metadata": {
        "id": "7hBIi_osiCS2"
      }
    },
    {
      "cell_type": "code",
      "source": [
        "# Dataset Rows & Columns count\n",
        "df1.shape"
      ],
      "metadata": {
        "id": "Kllu7SJgmLij"
      },
      "execution_count": null,
      "outputs": []
    },
    {
      "cell_type": "code",
      "source": [
        "df2.shape"
      ],
      "metadata": {
        "id": "BF8wGXqvLylC"
      },
      "execution_count": null,
      "outputs": []
    },
    {
      "cell_type": "code",
      "source": [
        "app_df.shape"
      ],
      "metadata": {
        "id": "elEmGWjNL6b8"
      },
      "execution_count": null,
      "outputs": []
    },
    {
      "cell_type": "markdown",
      "source": [
        "### Dataset Information"
      ],
      "metadata": {
        "id": "JlHwYmJAmNHm"
      }
    },
    {
      "cell_type": "code",
      "source": [
        "# Dataset Info\n",
        "df1.info()"
      ],
      "metadata": {
        "id": "e9hRXRi6meOf"
      },
      "execution_count": null,
      "outputs": []
    },
    {
      "cell_type": "code",
      "source": [
        "df2.info()"
      ],
      "metadata": {
        "id": "J5YtWeZkfnNp"
      },
      "execution_count": null,
      "outputs": []
    },
    {
      "cell_type": "markdown",
      "source": [
        "#### Duplicate Values"
      ],
      "metadata": {
        "id": "35m5QtbWiB9F"
      }
    },
    {
      "cell_type": "code",
      "source": [
        "# Dataset Duplicate Value Count\n",
        "df1[df1.duplicated('App')]"
      ],
      "metadata": {
        "id": "1sLdpKYkmox0"
      },
      "execution_count": null,
      "outputs": []
    },
    {
      "cell_type": "code",
      "source": [
        "data_df=df1.drop_duplicates(subset='App',keep='first').copy()"
      ],
      "metadata": {
        "id": "qV_tIbpCn6uh"
      },
      "execution_count": null,
      "outputs": []
    },
    {
      "cell_type": "code",
      "source": [
        "data_df.shape"
      ],
      "metadata": {
        "id": "S65wK8aCnl5a"
      },
      "execution_count": null,
      "outputs": []
    },
    {
      "cell_type": "code",
      "source": [
        "df2[df2.duplicated('App')]"
      ],
      "metadata": {
        "id": "zEvBPhMtjuP_"
      },
      "execution_count": null,
      "outputs": []
    },
    {
      "cell_type": "code",
      "source": [
        "user_df=df2.copy()"
      ],
      "metadata": {
        "id": "YJZCwuxUnefC"
      },
      "execution_count": null,
      "outputs": []
    },
    {
      "cell_type": "code",
      "source": [
        "type(data_df)"
      ],
      "metadata": {
        "id": "43TB3o_t4aLF"
      },
      "execution_count": null,
      "outputs": []
    },
    {
      "cell_type": "markdown",
      "source": [
        "### ***Check Unique Values for each variable.***"
      ],
      "metadata": {
        "id": "HzsdDK0PZ-xu"
      }
    },
    {
      "cell_type": "markdown",
      "source": [
        "### **Category**"
      ],
      "metadata": {
        "id": "pdaMtuiS_dK5"
      }
    },
    {
      "cell_type": "code",
      "source": [
        "# Missing Values/Null Values Count\n",
        "data_df['Category'].unique()"
      ],
      "metadata": {
        "id": "GgHWkxvamxVg"
      },
      "execution_count": null,
      "outputs": []
    },
    {
      "cell_type": "code",
      "source": [
        "data_df.loc[10472] = data_df.loc[10472].shift()\n",
        "data_df['App'].loc[10472] = data_df['Category'].loc[10472]\n",
        "data_df['Category'].loc[10472] = np.nan\n"
      ],
      "metadata": {
        "id": "mDI6C9-KnSPI"
      },
      "execution_count": null,
      "outputs": []
    },
    {
      "cell_type": "code",
      "source": [
        "data_df.loc[10472]"
      ],
      "metadata": {
        "id": "iaKfaCrYnzba"
      },
      "execution_count": null,
      "outputs": []
    },
    {
      "cell_type": "markdown",
      "source": [
        "### **Rating**"
      ],
      "metadata": {
        "id": "jbP_l9xw_YaB"
      }
    },
    {
      "cell_type": "code",
      "source": [
        "data_df['Rating'].unique()"
      ],
      "metadata": {
        "id": "N_vGV1EQi3Ef"
      },
      "execution_count": null,
      "outputs": []
    },
    {
      "cell_type": "code",
      "source": [
        "data_df['Rating'] = pd.to_numeric(data_df['Rating'], errors='coerce')\n",
        "data_df['Rating'].dtype"
      ],
      "metadata": {
        "id": "8Lllesl2EoA1"
      },
      "execution_count": null,
      "outputs": []
    },
    {
      "cell_type": "markdown",
      "source": [
        " **Size**"
      ],
      "metadata": {
        "id": "veQS885K_OpJ"
      }
    },
    {
      "cell_type": "code",
      "source": [
        "data_df['Size'].unique()"
      ],
      "metadata": {
        "id": "ByFF-lDMI2Jm"
      },
      "execution_count": null,
      "outputs": []
    },
    {
      "cell_type": "code",
      "source": [
        "data_df['Size'] = data_df.Size.replace(\"Varies with device\",np.nan)\n",
        "data_df['Size'] = data_df.Size.str.replace(\"M\",\"000\") # All size values became the kilobyte type.\n",
        "data_df['Size'] = data_df.Size.str.replace(\"k\",\"\")\n",
        "data_df['Size'] =data_df['Size'].astype(float)\n",
        "data_df['Size'].dtype"
      ],
      "metadata": {
        "id": "1rPJV_rAkTNe"
      },
      "execution_count": null,
      "outputs": []
    },
    {
      "cell_type": "markdown",
      "source": [
        "### **Reviews**"
      ],
      "metadata": {
        "id": "lGyIjaai_EpR"
      }
    },
    {
      "cell_type": "code",
      "source": [
        "data_df['Reviews'] = data_df['Reviews'].astype(float)\n",
        "data_df['Reviews'].dtype"
      ],
      "metadata": {
        "id": "FlAv6UlhFSWA"
      },
      "execution_count": null,
      "outputs": []
    },
    {
      "cell_type": "markdown",
      "source": [
        "## **Installs**"
      ],
      "metadata": {
        "id": "aN-NTNXrG-Qz"
      }
    },
    {
      "cell_type": "code",
      "source": [
        "data_df['Installs'].unique()"
      ],
      "metadata": {
        "id": "4f9VBwyBG5nS"
      },
      "execution_count": null,
      "outputs": []
    },
    {
      "cell_type": "code",
      "source": [
        "data_df['Installs'] = data_df.Installs.str.replace(\",\",\"\")\n",
        "data_df['Installs'] = data_df.Installs.str.replace(\"+\",\"\")\n",
        "data_df['Installs'] = data_df['Installs'].astype(float)\n",
        "data_df['Installs'].dtype"
      ],
      "metadata": {
        "id": "CaCH0Sh3Gs0C"
      },
      "execution_count": null,
      "outputs": []
    },
    {
      "cell_type": "markdown",
      "source": [
        "## **Price**"
      ],
      "metadata": {
        "id": "2NnMmUZ-H8sr"
      }
    },
    {
      "cell_type": "code",
      "source": [
        "data_df['Price'].unique()"
      ],
      "metadata": {
        "id": "mVkmtYycH7TI"
      },
      "execution_count": null,
      "outputs": []
    },
    {
      "cell_type": "code",
      "source": [
        "data_df['Price']=data_df.Price.str.replace(\"$\",\"\").astype(float)\n",
        "data_df['Price'].dtype"
      ],
      "metadata": {
        "id": "i5fHWsWTIJ5H"
      },
      "execution_count": null,
      "outputs": []
    },
    {
      "cell_type": "markdown",
      "source": [
        "## **Last Updated**"
      ],
      "metadata": {
        "id": "UW2OcwdDKzmM"
      }
    },
    {
      "cell_type": "code",
      "source": [
        "data_df['Last Updated'].unique()"
      ],
      "metadata": {
        "id": "KCFHHkurDfm0"
      },
      "execution_count": null,
      "outputs": []
    },
    {
      "cell_type": "code",
      "source": [
        "data_df['Last Updated'] = pd.to_datetime(data_df['Last Updated'])\n",
        "data_df['Last Updated']"
      ],
      "metadata": {
        "id": "vtYphFdhK6Ju"
      },
      "execution_count": null,
      "outputs": []
    },
    {
      "cell_type": "code",
      "source": [
        "data_df.describe()"
      ],
      "metadata": {
        "id": "tqRp8V2_Lbu5"
      },
      "execution_count": null,
      "outputs": []
    },
    {
      "cell_type": "code",
      "source": [
        "# Visualising the Missing Values\n",
        "import missingno as msno\n",
        "msno.bar(df1)"
      ],
      "metadata": {
        "id": "MrTGcJpiDWeX"
      },
      "execution_count": null,
      "outputs": []
    },
    {
      "cell_type": "code",
      "source": [
        "msno.bar(df2)"
      ],
      "metadata": {
        "id": "YwMrcWcNXWGp"
      },
      "execution_count": null,
      "outputs": []
    },
    {
      "cell_type": "markdown",
      "source": [
        "### What did you know about your dataset?"
      ],
      "metadata": {
        "id": "H0kj-8xxnORC"
      }
    },
    {
      "cell_type": "markdown",
      "source": [
        "There are 2 datasets. First one gives the information about Category,Price,Rating,Android version to be used etc. This dataset mostly gives the feedbazk of the users like reviews and sentiments they have towards the app.This dataset is almost 6 times bigger than other one as review of each user is shown.\n",
        "\n",
        "Analsing the apps,category and genres based on each factors will be done."
      ],
      "metadata": {
        "id": "gfoNAAC-nUe_"
      }
    },
    {
      "cell_type": "markdown",
      "source": [
        "## ***2. Understanding Your Variables***"
      ],
      "metadata": {
        "id": "nA9Y7ga8ng1Z"
      }
    },
    {
      "cell_type": "code",
      "source": [
        "# Dataset Columns\n",
        "data_df.columns"
      ],
      "metadata": {
        "id": "j7xfkqrt5Ag5"
      },
      "execution_count": null,
      "outputs": []
    },
    {
      "cell_type": "code",
      "source": [
        "# Dataset Describe\n",
        "data_df.describe( )"
      ],
      "metadata": {
        "id": "DnOaZdaE5Q5t"
      },
      "execution_count": null,
      "outputs": []
    },
    {
      "cell_type": "markdown",
      "source": [
        "### Variables Description "
      ],
      "metadata": {
        "id": "PBTbrJXOngz2"
      }
    },
    {
      "cell_type": "markdown",
      "source": [
        "Category- category which the app belong to \n",
        "\n",
        "Rating-Rating the app got\n",
        "\n",
        "Reviews-Reviews for each app\n",
        "\n",
        "Size-Size of each app\n",
        "\n",
        "Installs- No of Downloads \n",
        "\n",
        "Type- Type of payment\n",
        "\n",
        "Price-Price of each app\n",
        "\n",
        "Content Rating-Age group for which app can be used\n",
        "\n",
        "Genres-Genres which app belongs to\n",
        "\n",
        "Lsat Updated-Last updation date\n",
        "\n",
        "Current and Android Ver-Versions of android the app can be used"
      ],
      "metadata": {
        "id": "aJV4KIxSnxay"
      }
    },
    {
      "cell_type": "markdown",
      "source": [
        "## 3. ***Data Wrangling***"
      ],
      "metadata": {
        "id": "dauF4eBmngu3"
      }
    },
    {
      "cell_type": "markdown",
      "source": [
        "### Data Wrangling Code"
      ],
      "metadata": {
        "id": "bKJF3rekwFvQ"
      }
    },
    {
      "cell_type": "code",
      "source": [
        "# Write your code to make your dataset analysis ready. \n",
        "# Apps with maximum no of downloads\n",
        "\n",
        "data_df[data_df['Installs']==data_df['Installs'].max()]"
      ],
      "metadata": {
        "id": "wk-9a2fpoLcV"
      },
      "execution_count": null,
      "outputs": []
    },
    {
      "cell_type": "code",
      "source": [
        "# Maximum Installs  Reviews aand Rating in each Category and No of Apps in each Category\n",
        "\n",
        "data_df.groupby(['Category']).agg({'Installs':'max','Reviews':'max','Rating':'max','App':'count'})"
      ],
      "metadata": {
        "id": "Ea2Sh4RFyzfS"
      },
      "execution_count": null,
      "outputs": []
    },
    {
      "cell_type": "code",
      "source": [
        "#Apps with lowest size and minimum no of reviews\n",
        "\n",
        "min_reviews=data_df[data_df['Reviews']==data_df.Reviews.min()]\n",
        "min_reviews[min_reviews['Size']==min_reviews.Size.min()]"
      ],
      "metadata": {
        "id": "Zuo8uzr8533s"
      },
      "execution_count": null,
      "outputs": []
    },
    {
      "cell_type": "code",
      "source": [
        "#Apps related to Arts in Genere\n",
        "\n",
        "def unique_values(value):\n",
        "  '''returns the unique elements in a given string by removing &,;'''\n",
        "  if type(value)==float:\n",
        "    string=str(value)\n",
        "    a=string.split('&')\n",
        "    unique_values=[]\n",
        "    for b in range(len(a)):\n",
        "      unique_values=unique_values+a[b].split(';')\n",
        "    return(unique_values)  \n",
        "  elif type(value)==str:\n",
        "    a=value.split('&')\n",
        "    unique_values=[]\n",
        "    for b in range(len(a)):\n",
        "      unique_values=unique_values+a[b].split(';')\n",
        "    return(unique_values) \n",
        "# Unique Values in Generes\n",
        "\n",
        "data_df['unique_geners']=data_df.apply(lambda x:unique_values(x['Genres']),axis=1)\n",
        "data_df['unique_geners']\n",
        "\n",
        "def count_art(argu):\n",
        "  '''Apps with gener Art'''\n",
        "  count=0\n",
        "  for a in range(len(argu)):\n",
        "    if 'Art '==argu[a]:\n",
        "         count+=1\n",
        "  return(count)        \n",
        "#Total no of apps in genere Art\n",
        "print('No of Apps in th Genere-Art')\n",
        "No_of_apps_in_art=sum(data_df.apply(lambda x:count_art(x['unique_geners']),axis=1))\n",
        "No_of_apps_in_art"
      ],
      "metadata": {
        "id": "xbW8NaGR9iGW"
      },
      "execution_count": null,
      "outputs": []
    },
    {
      "cell_type": "code",
      "source": [
        "# total no of free and paid app in each categoty \n",
        "\n",
        "data_df.groupby(['Category','Type'])['Type'].count()"
      ],
      "metadata": {
        "id": "2Vhl7bEMCOOk"
      },
      "execution_count": null,
      "outputs": []
    },
    {
      "cell_type": "code",
      "source": [
        "#price of app with maximum Reviews\n",
        "\n",
        "paid_app_list=pd.DataFrame(data_df.drop(data_df[data_df['Price']==0].index,inplace=False))\n",
        "paid_app_list[paid_app_list['Reviews']==paid_app_list['Reviews'].max()]\n",
        "# paid_app_list.loc[2241,'Price']"
      ],
      "metadata": {
        "id": "aXSWfdQpwhjl"
      },
      "execution_count": null,
      "outputs": []
    },
    {
      "cell_type": "code",
      "source": [
        "# Paid Apps with maximum no of intalls\n",
        "\n",
        "paid_app_list[paid_app_list['Installs']==paid_app_list['Installs'].max()]"
      ],
      "metadata": {
        "id": "5TPhkKt0Tjqp"
      },
      "execution_count": null,
      "outputs": []
    },
    {
      "cell_type": "code",
      "source": [
        "#latest udated Apps\n",
        "\n",
        "data_df[data_df['Last Updated']==data_df['Last Updated'].max()]"
      ],
      "metadata": {
        "id": "KkUi5L7MJC_k"
      },
      "execution_count": null,
      "outputs": []
    },
    {
      "cell_type": "code",
      "source": [
        "user_df.head()"
      ],
      "metadata": {
        "id": "n6FLM4-uJC7X"
      },
      "execution_count": null,
      "outputs": []
    },
    {
      "cell_type": "code",
      "source": [
        "#number of positive ,negative and neutral reviews for each App\n",
        "\n",
        "user_df.groupby(['App','Sentiment'])['Sentiment'].count()"
      ],
      "metadata": {
        "id": "r8rABXkhnFGp"
      },
      "execution_count": null,
      "outputs": []
    },
    {
      "cell_type": "code",
      "source": [
        "# Mean of sentiment polarity and sentiment Subjectivity for each sentiment\n",
        "\n",
        "user_df.groupby('Sentiment').mean()"
      ],
      "metadata": {
        "id": "ayjbB8rxuzMn"
      },
      "execution_count": null,
      "outputs": []
    },
    {
      "cell_type": "code",
      "source": [
        "# Mean of sentiment polarity and sentiment Subjectivity for each App\n",
        "\n",
        "user_df[user_df['App']=='Angry Birds Classic']\n"
      ],
      "metadata": {
        "id": "04pofKBCYsae"
      },
      "execution_count": null,
      "outputs": []
    },
    {
      "cell_type": "code",
      "source": [
        "#No of Reviews for each App\n",
        "\n",
        "pd.DataFrame(user_df.groupby('App')['Translated_Review'].count())\n"
      ],
      "metadata": {
        "id": "a-0NgRMCvkDE"
      },
      "execution_count": null,
      "outputs": []
    },
    {
      "cell_type": "code",
      "source": [
        "# App with most positive review\n",
        "\n",
        "positive_review=pd.DataFrame(user_df[user_df['Sentiment']=='Positive'])\n",
        "p=pd.DataFrame(positive_review.groupby(['App'])['Sentiment'].count())\n",
        "p[p['Sentiment']==p['Sentiment'].max()]"
      ],
      "metadata": {
        "id": "k-ocnx4Zw5Kq"
      },
      "execution_count": null,
      "outputs": []
    },
    {
      "cell_type": "code",
      "source": [
        "# App with most negative review\n",
        "negative_review=pd.DataFrame(user_df[user_df['Sentiment']=='Negative'])\n",
        "n=pd.DataFrame(negative_review.groupby(['App'])['Sentiment'].count())\n",
        "n[n['Sentiment']==n['Sentiment'].max()]"
      ],
      "metadata": {
        "id": "CiGsh4M3-CbL"
      },
      "execution_count": null,
      "outputs": []
    },
    {
      "cell_type": "markdown",
      "source": [
        "### What all manipulations have you done and insights you found?"
      ],
      "metadata": {
        "id": "MSa1f5Uengrz"
      }
    },
    {
      "cell_type": "markdown",
      "source": [
        " 1. Apps with maximum no of downloads-\n",
        "We found Maximum downloaded apps with its details in the daaframe\n",
        "\n",
        "2. we found the Maximum Installs,Reviews and Rating in each Category and No of Apps in each Category in the dataframe. \n",
        "\n",
        "3. Apps with lowest size and minimum no of reviews.\n",
        "EG Groups,EG Way Life and EO Forum has lowest size of 1.1 with 0 reviews\n",
        "\n",
        "\n",
        "4. 65 No of  Apps related to Arts in Genere\n",
        "\n",
        "5. Total no of free and paid app in each categoty. This gave the count of free and paid apps in each category.\n",
        "\n",
        "6. price of app with maximum Reviews'Minecraft has the maximum review with a price of $6.99\n",
        "\n",
        "7. Paid Apps with maximum no of intalls\n",
        "Minecaft and Hitman  has maximum installs with a price of $6.99 and $0.99 respectively\n",
        "\n",
        "8. latest udated Apps. Last updated date is 8-8-2018 and we have 5 apps that has been updated on this date.\n",
        "\n",
        "9. we seperated number of positive ,negative and neutral reviews for each App. \n",
        "\n",
        "10. Mean of sentiment polarity and sentiment Subjectivity for each sentiment\n",
        "\n",
        "11. Mean of sentiment polarity and sentiment Subjectivity for each App\n",
        "\n",
        "12. No of Reviews for each App. Maximum no of eviws is 312\n",
        "\n",
        "13. App with most positive review- Helix jump with 209 positive reviews\n",
        "\n",
        "14. App with most negative review- Angry Bird Classic with 157 negative reviews \n"
      ],
      "metadata": {
        "id": "LbyXE7I1olp8"
      }
    },
    {
      "cell_type": "markdown",
      "source": [
        "## ***4. Data Vizualization, Storytelling & Experimenting with charts : Understand the relationships between variables***"
      ],
      "metadata": {
        "id": "GF8Ens_Soomf"
      }
    },
    {
      "cell_type": "markdown",
      "source": [
        "#### Chart - 1"
      ],
      "metadata": {
        "id": "0wOQAZs5pc--"
      }
    },
    {
      "cell_type": "code",
      "source": [
        "# Chart - 1 visualization code\n",
        "# CAtegory and no of reviews\n",
        "\n",
        "category_list = list(data_df['Category'].unique())\n",
        "category_review = []\n",
        "for i in category_list:\n",
        "    x = data_df[data_df['Category'] == i]\n",
        "    if(len(x)!=0):\n",
        "        review = sum(x.Reviews)/len(x)\n",
        "        category_review.append(review)\n",
        "    else:\n",
        "        review = sum(x.Reviews)\n",
        "        category_review.append(review)\n",
        "\n",
        "#sorting\n",
        "data_category_reviews = pd.DataFrame({'category': category_list,'review':category_review})\n",
        "new_index = (data_category_reviews['review'].sort_values(ascending=False)).index.values\n",
        "sorted_data =data_category_reviews.reindex(new_index)\n",
        "\n",
        "\n",
        "plt.figure(figsize=(15,8))\n",
        "sns.barplot(x=sorted_data['category'], y=sorted_data['review'])\n",
        "plt.xticks(rotation=80)\n",
        "plt.xlabel(\"Category\")\n",
        "plt.ylabel(\"Reviews\")\n",
        "plt.title(\"Category and Reviews\")\n",
        "plt.show()"
      ],
      "metadata": {
        "id": "7v_ESjsspbW7"
      },
      "execution_count": null,
      "outputs": []
    },
    {
      "cell_type": "markdown",
      "source": [
        "##### 1. Why did you pick the specific chart?"
      ],
      "metadata": {
        "id": "K5QZ13OEpz2H"
      }
    },
    {
      "cell_type": "markdown",
      "source": [
        "To summarise the amount of reviews each category has got."
      ],
      "metadata": {
        "id": "XESiWehPqBRc"
      }
    },
    {
      "cell_type": "markdown",
      "source": [
        "##### 2. What is/are the insight(s) found from the chart?"
      ],
      "metadata": {
        "id": "lQ7QKXXCp7Bj"
      }
    },
    {
      "cell_type": "markdown",
      "source": [
        "Social has the highest and event has the lowest."
      ],
      "metadata": {
        "id": "C_j1G7yiqdRP"
      }
    },
    {
      "cell_type": "markdown",
      "source": [
        "##### 3. Will the gained insights help creating a positive business impact? \n",
        "Are there any insights that lead to negative growth? Justify with specific reason."
      ],
      "metadata": {
        "id": "448CDAPjqfQr"
      }
    },
    {
      "cell_type": "markdown",
      "source": [
        "Here Social,Communication and games apps are getting reviewed more.Events, Medical,Beauty,Libraries and demo apps are the least reviewed. "
      ],
      "metadata": {
        "id": "3cspy4FjqxJW"
      }
    },
    {
      "cell_type": "markdown",
      "source": [
        "#### Chart - 2"
      ],
      "metadata": {
        "id": "KSlN3yHqYklG"
      }
    },
    {
      "cell_type": "code",
      "source": [
        "# Chart - 2 visualization code\n",
        "#Category and NO of Downloads\n",
        "\n",
        "category_list = list(data_df['Category'].unique())\n",
        "category_install = []\n",
        "for i in category_list:\n",
        "    x = data_df[data_df['Category'] == i]\n",
        "    if(len(x)!=0):\n",
        "        install = sum(x.Installs)/len(x)\n",
        "        category_install.append(install)\n",
        "    else:\n",
        "        install = sum(x.Installs)\n",
        "        category_install.append(install)\n",
        "        \n",
        "#sorting\n",
        "data_category_install = pd.DataFrame({'category': category_list,'install':category_install})\n",
        "new_index = (data_category_install['install'].sort_values(ascending=False)).index.values\n",
        "sorted_data =data_category_install.reindex(new_index)\n",
        "\n",
        "# visualization\n",
        "plt.figure(figsize=(15,8))\n",
        "sns.barplot(x=sorted_data['category'], y=sorted_data['install'])\n",
        "plt.xticks(rotation=80)\n",
        "plt.xlabel(\"Category\")\n",
        "plt.ylabel(\"Install\")\n",
        "plt.title(\"Category and Install\")\n",
        "plt.show()"
      ],
      "metadata": {
        "id": "R4YgtaqtYklH"
      },
      "execution_count": null,
      "outputs": []
    },
    {
      "cell_type": "markdown",
      "source": [
        "##### 1. Why did you pick the specific chart?"
      ],
      "metadata": {
        "id": "t6dVpIINYklI"
      }
    },
    {
      "cell_type": "markdown",
      "source": [
        "Answer Here.To know no of donloads each category got."
      ],
      "metadata": {
        "id": "5aaW0BYyYklI"
      }
    },
    {
      "cell_type": "markdown",
      "source": [
        "##### 2. What is/are the insight(s) found from the chart?"
      ],
      "metadata": {
        "id": "ijmpgYnKYklI"
      }
    },
    {
      "cell_type": "markdown",
      "source": [
        "Answer Here. Here communication and videoplayer has highest downloads . Medical has least installs"
      ],
      "metadata": {
        "id": "PSx9atu2YklI"
      }
    },
    {
      "cell_type": "markdown",
      "source": [
        "##### 3. Will the gained insights help creating a positive business impact? \n",
        "Are there any insights that lead to negative growth? Justify with specific reason."
      ],
      "metadata": {
        "id": "-JiQyfWJYklI"
      }
    },
    {
      "cell_type": "markdown",
      "source": [
        "Answer Here. Making more apps in communication category eill lead to bussiness growth. "
      ],
      "metadata": {
        "id": "BcBbebzrYklV"
      }
    },
    {
      "cell_type": "markdown",
      "source": [
        "#### Chart - 3"
      ],
      "metadata": {
        "id": "EM7whBJCYoAo"
      }
    },
    {
      "cell_type": "code",
      "source": [
        "# Chart - 3 visualization code\n",
        "#No of apps in each content rating category\n",
        "plt.figure(figsize=(10,7))\n",
        "sns.countplot(data=data_df, x='Content Rating')\n",
        "plt.xticks(rotation=80)\n",
        "plt.title('Content Rating',color = 'blue',fontsize=15)\n",
        "plt.show()"
      ],
      "metadata": {
        "id": "t6GMdE67YoAp"
      },
      "execution_count": null,
      "outputs": []
    },
    {
      "cell_type": "markdown",
      "source": [
        "##### 1. Why did you pick the specific chart?"
      ],
      "metadata": {
        "id": "fge-S5ZAYoAp"
      }
    },
    {
      "cell_type": "markdown",
      "source": [
        "Answer Here. To know which content rating apps are made more"
      ],
      "metadata": {
        "id": "5dBItgRVYoAp"
      }
    },
    {
      "cell_type": "markdown",
      "source": [
        "##### 2. What is/are the insight(s) found from the chart?"
      ],
      "metadata": {
        "id": "85gYPyotYoAp"
      }
    },
    {
      "cell_type": "markdown",
      "source": [
        "Answer Here. Apps that can be used by evryone is made more . No 18+ Apps are made"
      ],
      "metadata": {
        "id": "4jstXR6OYoAp"
      }
    },
    {
      "cell_type": "markdown",
      "source": [
        "##### 3. Will the gained insights help creating a positive business impact? \n",
        "Are there any insights that lead to negative growth? Justify with specific reason."
      ],
      "metadata": {
        "id": "RoGjAbkUYoAp"
      }
    },
    {
      "cell_type": "markdown",
      "source": [
        "Answer Here. Apps tht can be used by everyone is made mnore"
      ],
      "metadata": {
        "id": "zfJ8IqMcYoAp"
      }
    },
    {
      "cell_type": "markdown",
      "source": [
        "#### Chart - 4"
      ],
      "metadata": {
        "id": "4Of9eVA-YrdM"
      }
    },
    {
      "cell_type": "code",
      "source": [
        "# Chart - 4 visualization code\n",
        "#MEAN OF RATING FOR EACH GENRE\n",
        "\n",
        "j=data_df.groupby('Genres')['Rating'].mean()\n",
        "plt.rcParams['figure.figsize']=(55,10)\n",
        "plt.rcParams['font.size']=22\n",
        "plt.plot(j)\n",
        "plt.title('Mean of rating for each Genre')\n",
        "plt.xticks(rotation=90)\n",
        "plt.ylabel('Rating')\n",
        "plt.xlabel('Genres')\n",
        "plt.show"
      ],
      "metadata": {
        "id": "irlUoxc8YrdO"
      },
      "execution_count": null,
      "outputs": []
    },
    {
      "cell_type": "markdown",
      "source": [
        "##### 1. Why did you pick the specific chart?"
      ],
      "metadata": {
        "id": "iky9q4vBYrdO"
      }
    },
    {
      "cell_type": "markdown",
      "source": [
        "Answer Here. To know the ststics of each genere rating."
      ],
      "metadata": {
        "id": "aJRCwT6DYrdO"
      }
    },
    {
      "cell_type": "markdown",
      "source": [
        "##### 2. What is/are the insight(s) found from the chart?"
      ],
      "metadata": {
        "id": "F6T5p64dYrdO"
      }
    },
    {
      "cell_type": "markdown",
      "source": [
        "Answer Here. Least rating is for pa renting genre apps . so developing them have a low impact among people."
      ],
      "metadata": {
        "id": "Xx8WAJvtYrdO"
      }
    },
    {
      "cell_type": "markdown",
      "source": [
        "##### 3. Will the gained insights help creating a positive business impact? \n",
        "Are there any insights that lead to negative growth? Justify with specific reason."
      ],
      "metadata": {
        "id": "y-Ehk30pYrdP"
      }
    },
    {
      "cell_type": "markdown",
      "source": [
        "Answer Here.Devolping comics app has high rating. so developig comics App with added feature may increase the installs of that App.\n",
        "Parenting App csn csuse low impact . If an app developed with god features and with user friendly interface may increase the rating of parenting app."
      ],
      "metadata": {
        "id": "jLNxxz7MYrdP"
      }
    },
    {
      "cell_type": "markdown",
      "source": [
        "#### Chart - 5"
      ],
      "metadata": {
        "id": "bamQiAODYuh1"
      }
    },
    {
      "cell_type": "code",
      "source": [
        "# Chart - 5 visualization code\n",
        "# No of Apps in each category\n",
        "\n",
        "category_list = list(data_df['Category'].unique())\n",
        "category_app= []\n",
        "for i in category_list:\n",
        "    x = data_df[data_df['Category'] == i]\n",
        "    app_count= x['App'].count()\n",
        "    category_app.append(app_count)\n",
        "\n",
        "#sorting\n",
        "data_category_app=pd.DataFrame({'category': category_list,'App':category_app})\n",
        "\n",
        "# visualization\n",
        "plt.figure(figsize=(15,10))\n",
        "sns.pointplot(x=data_category_app['category'], y=data_category_app['App'])\n",
        "plt.xticks(rotation=80)\n",
        "plt.rcParams['font.size']=18\n",
        "plt.xlabel(\"Category\")\n",
        "plt.ylabel(\"App\")\n",
        "plt.title(\"Category and App\")\n",
        "plt.show()"
      ],
      "metadata": {
        "id": "TIJwrbroYuh3"
      },
      "execution_count": null,
      "outputs": []
    },
    {
      "cell_type": "markdown",
      "source": [
        "##### 1. Why did you pick the specific chart?"
      ],
      "metadata": {
        "id": "QHF8YVU7Yuh3"
      }
    },
    {
      "cell_type": "markdown",
      "source": [
        "Answer Here.To know the no of apps each category got."
      ],
      "metadata": {
        "id": "dcxuIMRPYuh3"
      }
    },
    {
      "cell_type": "markdown",
      "source": [
        "##### 2. What is/are the insight(s) found from the chart?"
      ],
      "metadata": {
        "id": "GwzvFGzlYuh3"
      }
    },
    {
      "cell_type": "markdown",
      "source": [
        "Answer Here. Game Category has maximum no of Apps . Beauty has least no of Apps."
      ],
      "metadata": {
        "id": "uyqkiB8YYuh3"
      }
    },
    {
      "cell_type": "markdown",
      "source": [
        "##### 3. Will the gained insights help creating a positive business impact? \n",
        "Are there any insights that lead to negative growth? Justify with specific reason."
      ],
      "metadata": {
        "id": "qYpmQ266Yuh3"
      }
    },
    {
      "cell_type": "markdown",
      "source": [
        "Answer Here.Comics has least no of apps but they have high rating .So devoleping comics apps can make an impact on users . Users will download the new comic app as they have no numerous options.So good comics apps will make a positive impact"
      ],
      "metadata": {
        "id": "_WtzZ_hCYuh4"
      }
    },
    {
      "cell_type": "markdown",
      "source": [
        "#### Chart - 6"
      ],
      "metadata": {
        "id": "OH-pJp9IphqM"
      }
    },
    {
      "cell_type": "code",
      "source": [
        "# Chart - 6 visualization code\n",
        "#Type of sentiment and its respective counts\n",
        "\n",
        "user_df.groupby('Sentiment')['Translated_Review'].count().plot(kind='box')"
      ],
      "metadata": {
        "id": "kuRf4wtuphqN"
      },
      "execution_count": null,
      "outputs": []
    },
    {
      "cell_type": "markdown",
      "source": [
        "##### 1. Why did you pick the specific chart?"
      ],
      "metadata": {
        "id": "bbFf2-_FphqN"
      }
    },
    {
      "cell_type": "markdown",
      "source": [
        "Answer Here. To get the positive , negative and neutrl counts in box plot"
      ],
      "metadata": {
        "id": "loh7H2nzphqN"
      }
    },
    {
      "cell_type": "markdown",
      "source": [
        "##### 2. What is/are the insight(s) found from the chart?"
      ],
      "metadata": {
        "id": "_ouA3fa0phqN"
      }
    },
    {
      "cell_type": "markdown",
      "source": [
        "Answer Here. Highest is Positive and Lowest is Neutral . Negative value lies in the range of 8000"
      ],
      "metadata": {
        "id": "VECbqPI7phqN"
      }
    },
    {
      "cell_type": "markdown",
      "source": [
        "##### 3. Will the gained insights help creating a positive business impact? \n",
        "Are there any insights that lead to negative growth? Justify with specific reason."
      ],
      "metadata": {
        "id": "Seke61FWphqN"
      }
    },
    {
      "cell_type": "markdown",
      "source": [
        "Answer Here. Users express their sentiments in either positive or negative way. That's why we have least no of neutral review . Which helps in developing the apps more user friendly"
      ],
      "metadata": {
        "id": "DW4_bGpfphqN"
      }
    },
    {
      "cell_type": "markdown",
      "source": [
        "#### Chart - 7"
      ],
      "metadata": {
        "id": "PIIx-8_IphqN"
      }
    },
    {
      "cell_type": "code",
      "source": [
        "# Chart - 7 visualization code\n",
        "sns.jointplot(x='Price',y='Size',data=data_df)"
      ],
      "metadata": {
        "id": "lqAIGUfyphqO"
      },
      "execution_count": null,
      "outputs": []
    },
    {
      "cell_type": "markdown",
      "source": [
        "##### 1. Why did you pick the specific chart?"
      ],
      "metadata": {
        "id": "t27r6nlMphqO"
      }
    },
    {
      "cell_type": "markdown",
      "source": [
        "Answer Here. To get knowledge whether size is increasing for paid apps."
      ],
      "metadata": {
        "id": "iv6ro40sphqO"
      }
    },
    {
      "cell_type": "markdown",
      "source": [
        "##### 2. What is/are the insight(s) found from the chart?"
      ],
      "metadata": {
        "id": "r2jJGEOYphqO"
      }
    },
    {
      "cell_type": "markdown",
      "source": [
        "Answer Here. Size is not depends on Price. high sized apps are almost free"
      ],
      "metadata": {
        "id": "Po6ZPi4hphqO"
      }
    },
    {
      "cell_type": "markdown",
      "source": [
        "##### 3. Will the gained insights help creating a positive business impact? \n",
        "Are there any insights that lead to negative growth? Justify with specific reason."
      ],
      "metadata": {
        "id": "b0JNsNcRphqO"
      }
    },
    {
      "cell_type": "markdown",
      "source": [
        "Answer Here. Most paid apps have low size . Higher size apps is free."
      ],
      "metadata": {
        "id": "xvSq8iUTphqO"
      }
    },
    {
      "cell_type": "markdown",
      "source": [
        "#### Chart - 14 - Correlation Heatmap"
      ],
      "metadata": {
        "id": "NC_X3p0fY2L0"
      }
    },
    {
      "cell_type": "code",
      "source": [
        "# Correlation Heatmap visualization code\n",
        "data_df.corr()\n"
      ],
      "metadata": {
        "id": "xyC9zolEZNRQ"
      },
      "execution_count": null,
      "outputs": []
    },
    {
      "cell_type": "code",
      "source": [
        "plt.rcParams['font.size']=13\n",
        "sns.heatmap(data_df.corr(), annot=True, linewidths=0.1, fmt= '.3f')\n"
      ],
      "metadata": {
        "id": "p8nFBjj2_3Ft"
      },
      "execution_count": null,
      "outputs": []
    },
    {
      "cell_type": "markdown",
      "source": [
        "##### 1. Why did you pick the specific chart?"
      ],
      "metadata": {
        "id": "UV0SzAkaZNRQ"
      }
    },
    {
      "cell_type": "markdown",
      "source": [
        "Answer Here. To know the correlation between all the variable "
      ],
      "metadata": {
        "id": "DVPuT8LYZNRQ"
      }
    },
    {
      "cell_type": "markdown",
      "source": [
        "##### 1. Why did you pick the specific chart?"
      ],
      "metadata": {
        "id": "PAGOc1Ygjz4N"
      }
    },
    {
      "cell_type": "markdown",
      "source": [
        "Answer Here.Black has least correlation and negative correlation. Purple has the second least correlation . orange layer means two variables are more corelated ie more than 0.5 . white layer has corelation of 1."
      ],
      "metadata": {
        "id": "bfSqtnDqZNRR"
      }
    },
    {
      "cell_type": "markdown",
      "source": [
        "#### Chart - 15 - Pair Plot "
      ],
      "metadata": {
        "id": "q29F0dvdveiT"
      }
    },
    {
      "cell_type": "code",
      "source": [
        "# Pair Plot visualization code\n",
        "sns.pairplot(data_df)"
      ],
      "metadata": {
        "id": "o58-TEIhveiU"
      },
      "execution_count": null,
      "outputs": []
    },
    {
      "cell_type": "markdown",
      "source": [
        "##### 1. Why did you pick the specific chart?"
      ],
      "metadata": {
        "id": "EXh0U9oCveiU"
      }
    },
    {
      "cell_type": "markdown",
      "source": [
        "Answer Here. Pair plot is the different combinations of plots between Rating,Review,Size,Install,Price ."
      ],
      "metadata": {
        "id": "eMmPjTByveiU"
      }
    },
    {
      "cell_type": "markdown",
      "source": [
        "##### 2. What is/are the insight(s) found from the chart?"
      ],
      "metadata": {
        "id": "22aHeOlLveiV"
      }
    },
    {
      "cell_type": "markdown",
      "source": [
        "Answer Here. This allowed us to see both distribution of a single  variables and relationship between to variable."
      ],
      "metadata": {
        "id": "uPQ8RGwHveiV"
      }
    },
    {
      "cell_type": "markdown",
      "source": [
        "## **5. Solution to Business Objective**"
      ],
      "metadata": {
        "id": "JcMwzZxoAimU"
      }
    },
    {
      "cell_type": "markdown",
      "source": [
        "#### What do you suggest the client to achieve Business Objective ? \n",
        "Explain Briefly."
      ],
      "metadata": {
        "id": "8G2x9gOozGDZ"
      }
    },
    {
      "cell_type": "markdown",
      "source": [
        "Answer Here. Play Store must suggest the apps to the user according to their activities .It should not give a  constant notifications to download paid app if the userhas not yet used a paid app . Asking for review and rating will increase the efficincy of play store . if a user is trying to download a low rating app, giving a warning for the user on its reviews will help the user to not download it thereby increasing the standards of the apps in playstore."
      ],
      "metadata": {
        "id": "pASKb0qOza21"
      }
    },
    {
      "cell_type": "markdown",
      "source": [
        "# **Conclusion**"
      ],
      "metadata": {
        "id": "gCX9965dhzqZ"
      }
    },
    {
      "cell_type": "markdown",
      "source": [
        "Write the conclusion here. \n",
        "We have gone through the two dataframe and its column relations.wehad hge number of apps sectioned into category,genres,android versions etc. We got the user review and highly rated apps that can be suggeseted to new users .Dataset can also be used to look whether the original ratings of the app matches the predicted rating to know whether the app is performing better or worse compared to other apps on the Play Store."
      ],
      "metadata": {
        "id": "Fjb1IsQkh3yE"
      }
    },
    {
      "cell_type": "markdown",
      "source": [
        "### ***Hurrah! You have successfully completed your EDA Capstone Project !!!***"
      ],
      "metadata": {
        "id": "gIfDvo9L0UH2"
      }
    }
  ]
}